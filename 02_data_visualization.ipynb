{
 "cells": [
  {
   "cell_type": "code",
   "execution_count": 2,
   "id": "586e915f-18b0-42de-b6b7-40921fa7569e",
   "metadata": {},
   "outputs": [],
   "source": [
    "import numpy as np\n",
    "import pandas as pd\n",
    "import os\n",
    "import datetime\n",
    "import sensirion_fastedf as edf\n",
    "from bs4 import BeautifulSoup\n",
    "#import ezgpx # required Python >=3.9 https://pypi.org/project/ezgpx/\n",
    "\n",
    "import plotly.express as px"
   ]
  },
  {
   "cell_type": "code",
   "execution_count": 3,
   "id": "bb7d6b61-c20b-4bb2-a15d-b214d0e5244a",
   "metadata": {},
   "outputs": [
    {
     "name": "stdout",
     "output_type": "stream",
     "text": [
      "3.8.6\n"
     ]
    }
   ],
   "source": [
    "from platform import python_version\n",
    "\n",
    "print(python_version())"
   ]
  },
  {
   "cell_type": "markdown",
   "id": "d14948b7-0afc-4cbe-ae43-0c377ec62f3b",
   "metadata": {},
   "source": [
    "# Data Visualization"
   ]
  },
  {
   "cell_type": "markdown",
   "id": "e60d492a",
   "metadata": {},
   "source": [
    "**Goals**\n",
    "\n",
    "**Notebook explanation**\n",
    "\n"
   ]
  },
  {
   "cell_type": "code",
   "execution_count": 4,
   "id": "83951093-d72e-4982-a629-44c65794f77a",
   "metadata": {},
   "outputs": [],
   "source": [
    "# load merged data (sensor data + tracking data)\n",
    "df = pd.read_pickle('data/02_merged/merged_data.pkl')"
   ]
  },
  {
   "cell_type": "code",
   "execution_count": null,
   "id": "0698246c-fbb7-4324-9acc-5b9c5de2fd3e",
   "metadata": {},
   "outputs": [],
   "source": []
  }
 ],
 "metadata": {
  "kernelspec": {
   "display_name": "Python 3 (ipykernel)",
   "language": "python",
   "name": "python3"
  },
  "language_info": {
   "codemirror_mode": {
    "name": "ipython",
    "version": 3
   },
   "file_extension": ".py",
   "mimetype": "text/x-python",
   "name": "python",
   "nbconvert_exporter": "python",
   "pygments_lexer": "ipython3",
   "version": "3.8.6"
  }
 },
 "nbformat": 4,
 "nbformat_minor": 5
}
